{
 "cells": [
  {
   "cell_type": "markdown",
   "id": "ba9d77f8-e7f9-46fb-907b-669caf3260ff",
   "metadata": {},
   "source": [
    "# question no 1 Create one variable containing  String,list,float,"
   ]
  },
  {
   "cell_type": "code",
   "execution_count": 7,
   "id": "8b0cb1b0-b6d3-4a6e-b73c-8d660555f0f0",
   "metadata": {},
   "outputs": [],
   "source": [
    "a = \"kaushal\""
   ]
  },
  {
   "cell_type": "code",
   "execution_count": 8,
   "id": "8f04355c-06c9-463c-b535-5037067ef39f",
   "metadata": {},
   "outputs": [
    {
     "data": {
      "text/plain": [
       "str"
      ]
     },
     "execution_count": 8,
     "metadata": {},
     "output_type": "execute_result"
    }
   ],
   "source": [
    "type(a)"
   ]
  },
  {
   "cell_type": "code",
   "execution_count": 9,
   "id": "6919ff80-4833-4a26-a45a-8c246209c276",
   "metadata": {},
   "outputs": [],
   "source": [
    "b = [1,2,3,4]"
   ]
  },
  {
   "cell_type": "code",
   "execution_count": 10,
   "id": "725a666f-c2a5-477f-b953-aa87b94d749e",
   "metadata": {},
   "outputs": [
    {
     "data": {
      "text/plain": [
       "list"
      ]
     },
     "execution_count": 10,
     "metadata": {},
     "output_type": "execute_result"
    }
   ],
   "source": [
    "type(b)"
   ]
  },
  {
   "cell_type": "code",
   "execution_count": 13,
   "id": "74f8512c-363e-4528-9c6a-7276e5b859d0",
   "metadata": {},
   "outputs": [],
   "source": [
    "c = 4.545"
   ]
  },
  {
   "cell_type": "code",
   "execution_count": 14,
   "id": "4e8af63a-2a25-49f5-90be-a25f14ed8e7b",
   "metadata": {},
   "outputs": [
    {
     "data": {
      "text/plain": [
       "float"
      ]
     },
     "execution_count": 14,
     "metadata": {},
     "output_type": "execute_result"
    }
   ],
   "source": [
    "type(c)"
   ]
  },
  {
   "cell_type": "code",
   "execution_count": 16,
   "id": "4f5a9326-bf6f-41a2-b6ad-8a261c04f018",
   "metadata": {},
   "outputs": [],
   "source": [
    "d = (1,2,3)"
   ]
  },
  {
   "cell_type": "code",
   "execution_count": 17,
   "id": "39577345-57d0-461e-9038-09ac92e8205a",
   "metadata": {},
   "outputs": [
    {
     "data": {
      "text/plain": [
       "tuple"
      ]
     },
     "execution_count": 17,
     "metadata": {},
     "output_type": "execute_result"
    }
   ],
   "source": [
    "type(d)"
   ]
  },
  {
   "cell_type": "code",
   "execution_count": null,
   "id": "2153d2ea-ff9f-4f18-a398-092c04e42345",
   "metadata": {},
   "outputs": [],
   "source": []
  },
  {
   "cell_type": "code",
   "execution_count": null,
   "id": "f3f4823a-aaff-40a7-8bdc-c38d54964ce2",
   "metadata": {},
   "outputs": [],
   "source": []
  },
  {
   "cell_type": "code",
   "execution_count": null,
   "id": "0e33c0e9-5394-4586-be18-5072409ae395",
   "metadata": {},
   "outputs": [],
   "source": [
    "#question no 2 given are some variable containing data. What will be the data type of the above given variable"
   ]
  },
  {
   "cell_type": "code",
   "execution_count": 25,
   "id": "2326188f-a0cc-4ccf-b832-d8a2e37897cd",
   "metadata": {},
   "outputs": [],
   "source": [
    "var1 = ' ' "
   ]
  },
  {
   "cell_type": "code",
   "execution_count": 26,
   "id": "135a7af2-eb3c-4bd8-9f50-0d75d7305bbe",
   "metadata": {},
   "outputs": [
    {
     "data": {
      "text/plain": [
       "str"
      ]
     },
     "execution_count": 26,
     "metadata": {},
     "output_type": "execute_result"
    }
   ],
   "source": [
    "type(var1)"
   ]
  },
  {
   "cell_type": "code",
   "execution_count": 29,
   "id": "6fa67152-05fd-45d3-8e46-a2e440d6c66d",
   "metadata": {},
   "outputs": [],
   "source": [
    "var2 = '[ DS , ML , Python]'"
   ]
  },
  {
   "cell_type": "code",
   "execution_count": 30,
   "id": "321fa707-bb8d-4919-9138-44514caeb862",
   "metadata": {},
   "outputs": [
    {
     "data": {
      "text/plain": [
       "str"
      ]
     },
     "execution_count": 30,
     "metadata": {},
     "output_type": "execute_result"
    }
   ],
   "source": [
    "type(var2)"
   ]
  },
  {
   "cell_type": "code",
   "execution_count": 31,
   "id": "397f6f7e-a51c-4a3a-b19c-f49ffe17438b",
   "metadata": {},
   "outputs": [],
   "source": [
    "var3 = ['DS', 'ML','Python']"
   ]
  },
  {
   "cell_type": "code",
   "execution_count": 32,
   "id": "06aaf0f9-7b06-4276-873b-ec3d1e9fe64e",
   "metadata": {},
   "outputs": [
    {
     "data": {
      "text/plain": [
       "list"
      ]
     },
     "execution_count": 32,
     "metadata": {},
     "output_type": "execute_result"
    }
   ],
   "source": [
    "type(var3)"
   ]
  },
  {
   "cell_type": "code",
   "execution_count": 33,
   "id": "3d1005fd-b3fb-45f8-b9ce-fd7519904744",
   "metadata": {},
   "outputs": [],
   "source": [
    "var4 = 1"
   ]
  },
  {
   "cell_type": "code",
   "execution_count": 34,
   "id": "bcbc6979-44ea-4413-9791-ce3f371583bb",
   "metadata": {},
   "outputs": [
    {
     "data": {
      "text/plain": [
       "int"
      ]
     },
     "execution_count": 34,
     "metadata": {},
     "output_type": "execute_result"
    }
   ],
   "source": [
    "type(var4)"
   ]
  },
  {
   "cell_type": "code",
   "execution_count": null,
   "id": "6444ab4d-769a-4f26-9db3-58b506a0aee4",
   "metadata": {},
   "outputs": [],
   "source": [
    "Question No 3 Explain the follwing operators using an example"
   ]
  },
  {
   "cell_type": "code",
   "execution_count": null,
   "id": "a2829ff8-cc42-4cd8-81e4-bc9a2d387a30",
   "metadata": {},
   "outputs": [],
   "source": [
    "Arthemetic Oeprators"
   ]
  },
  {
   "cell_type": "code",
   "execution_count": null,
   "id": "4a2ba650-0f95-4b8d-905c-5fc055367f25",
   "metadata": {},
   "outputs": [],
   "source": [
    "/ Division function"
   ]
  },
  {
   "cell_type": "code",
   "execution_count": 1,
   "id": "118d8733-4be7-4b08-94c2-662631da8bc8",
   "metadata": {},
   "outputs": [
    {
     "data": {
      "text/plain": [
       "0.5"
      ]
     },
     "execution_count": 1,
     "metadata": {},
     "output_type": "execute_result"
    }
   ],
   "source": [
    "1/2"
   ]
  },
  {
   "cell_type": "code",
   "execution_count": 15,
   "id": "d9f24b74-6c69-400a-b6d2-c82e407b55f7",
   "metadata": {},
   "outputs": [
    {
     "data": {
      "text/plain": [
       "'%percentage function Modulos oeprator gives the Reminder after division'"
      ]
     },
     "execution_count": 15,
     "metadata": {},
     "output_type": "execute_result"
    }
   ],
   "source": [
    "\"%percentage function Modulos oeprator gives the Reminder after division\""
   ]
  },
  {
   "cell_type": "code",
   "execution_count": 14,
   "id": "c227f5aa-a224-427c-8bce-6836ac9d93c3",
   "metadata": {},
   "outputs": [
    {
     "data": {
      "text/plain": [
       "2"
      ]
     },
     "execution_count": 14,
     "metadata": {},
     "output_type": "execute_result"
    }
   ],
   "source": [
    "5%3"
   ]
  },
  {
   "cell_type": "code",
   "execution_count": null,
   "id": "5df3dc95-2fae-4065-9445-0680d6b4d950",
   "metadata": {},
   "outputs": [],
   "source": [
    "'// function tell the quotient after division"
   ]
  },
  {
   "cell_type": "code",
   "execution_count": 18,
   "id": "c6e1e27e-74a0-41ab-8593-2ef3f4b9bf6e",
   "metadata": {},
   "outputs": [
    {
     "data": {
      "text/plain": [
       "20"
      ]
     },
     "execution_count": 18,
     "metadata": {},
     "output_type": "execute_result"
    }
   ],
   "source": [
    "100//5"
   ]
  },
  {
   "cell_type": "code",
   "execution_count": 17,
   "id": "de80587a-98f3-4675-a582-de7bb68741e8",
   "metadata": {},
   "outputs": [
    {
     "data": {
      "text/plain": [
       "' ** is power funtion'"
      ]
     },
     "execution_count": 17,
     "metadata": {},
     "output_type": "execute_result"
    }
   ],
   "source": [
    "\" ** is exponenet funtion\""
   ]
  },
  {
   "cell_type": "code",
   "execution_count": 21,
   "id": "64b6a936-ac7d-4dfd-b2f1-042608ed9b32",
   "metadata": {},
   "outputs": [
    {
     "data": {
      "text/plain": [
       "8"
      ]
     },
     "execution_count": 21,
     "metadata": {},
     "output_type": "execute_result"
    }
   ],
   "source": [
    "2**3"
   ]
  },
  {
   "cell_type": "code",
   "execution_count": null,
   "id": "d7e77cb8-3340-43b9-a25d-ede511b446fe",
   "metadata": {},
   "outputs": [],
   "source": [
    "\"question no 4\" Create a list of length 10 of your choice containing multiple types of data. using for loop print element and its data"
   ]
  },
  {
   "cell_type": "code",
   "execution_count": 3,
   "id": "49541dea-7ac1-47a1-afb4-98407f1fef13",
   "metadata": {},
   "outputs": [],
   "source": [
    "k = [1,2,3,4,5, \"KK\",\"pwskills\", 10.25 , 5.45, True]"
   ]
  },
  {
   "cell_type": "code",
   "execution_count": 4,
   "id": "99aa2248-22ae-4a4f-b5cb-0c0f1a2596f8",
   "metadata": {},
   "outputs": [
    {
     "name": "stdout",
     "output_type": "stream",
     "text": [
      "<class 'int'>\n",
      "<class 'int'>\n",
      "<class 'int'>\n",
      "<class 'int'>\n",
      "<class 'int'>\n",
      "<class 'str'>\n",
      "<class 'str'>\n",
      "<class 'float'>\n",
      "<class 'float'>\n",
      "<class 'bool'>\n"
     ]
    }
   ],
   "source": [
    "for i in k:\n",
    "    print(type(i))"
   ]
  },
  {
   "cell_type": "code",
   "execution_count": 5,
   "id": "8966484c-0dd8-4f01-b572-4b1fcb57b648",
   "metadata": {},
   "outputs": [
    {
     "data": {
      "text/plain": [
       "'question no 5'"
      ]
     },
     "execution_count": 5,
     "metadata": {},
     "output_type": "execute_result"
    }
   ],
   "source": [
    "\"question no 5\""
   ]
  },
  {
   "cell_type": "code",
   "execution_count": 4,
   "id": "222d4c5a-d990-431b-80cd-12f1ef39be03",
   "metadata": {},
   "outputs": [
    {
     "name": "stdin",
     "output_type": "stream",
     "text": [
      "Enter A:  25\n",
      "Enter B:  5\n"
     ]
    },
    {
     "name": "stdout",
     "output_type": "stream",
     "text": [
      "25 is divisible by 5 exactly 5 times.\n"
     ]
    }
   ],
   "source": [
    "A = int(input(\"Enter A: \"))\n",
    "B = int(input(\"Enter B: \"))\n",
    "quotient = (A//B)\n",
    "\n",
    "while A % B == 0:\n",
    "            print(f\"{A} is divisible by {B} exactly {quotient} times.\")\n",
    "            break\n",
    "    \n",
    "else:\n",
    "    print(f\"{A} is not divisible by {B}.\")\n",
    "    "
   ]
  },
  {
   "cell_type": "code",
   "execution_count": null,
   "id": "574f39ef-8e95-4b3b-ac27-728bb052a5f3",
   "metadata": {},
   "outputs": [],
   "source": [
    "question no 6"
   ]
  },
  {
   "cell_type": "code",
   "execution_count": 10,
   "id": "8c609a34-ed72-4200-b08d-f5701ccd1c5d",
   "metadata": {},
   "outputs": [
    {
     "name": "stdout",
     "output_type": "stream",
     "text": [
      "The number 1 is not divisible by 3\n",
      "The number 2 is not divisible by 3\n",
      "The number 3 is divisible by 3\n",
      "The number 4 is not divisible by 3\n",
      "The number 5 is not divisible by 3\n",
      "The number 6 is divisible by 3\n",
      "The number 7 is not divisible by 3\n",
      "The number 8 is not divisible by 3\n",
      "The number 9 is divisible by 3\n",
      "The number 10 is not divisible by 3\n",
      "The number 11 is not divisible by 3\n",
      "The number 12 is divisible by 3\n",
      "The number 13 is not divisible by 3\n",
      "The number 14 is not divisible by 3\n",
      "The number 15 is divisible by 3\n",
      "The number 16 is not divisible by 3\n",
      "The number 17 is not divisible by 3\n",
      "The number 18 is divisible by 3\n",
      "The number 19 is not divisible by 3\n",
      "The number 20 is not divisible by 3\n",
      "The number 21 is divisible by 3\n",
      "The number 22 is not divisible by 3\n",
      "The number 23 is not divisible by 3\n",
      "The number 24 is divisible by 3\n",
      "The number 25 is not divisible by 3\n"
     ]
    }
   ],
   "source": [
    "list_of_numbers = [i for i in range(1,26)]\n",
    "# Iterate through the list\n",
    "for number in list_of_numbers:\n",
    "\n",
    "    # Check if the number is divisible by 3\n",
    "    if number % 3 == 0:\n",
    "\n",
    "        # Print \"The number is divisible by 3\"\n",
    "        print(\"The number\", number, \"is divisible by 3\")\n",
    "\n",
    "    else:\n",
    "\n",
    "        # Print \"The number is not divisible by 3\"\n",
    "        print(\"The number\", number, \"is not divisible by 3\")"
   ]
  },
  {
   "cell_type": "code",
   "execution_count": null,
   "id": "b3332ae5-311e-45b0-8c76-8219745e69c4",
   "metadata": {},
   "outputs": [],
   "source": []
  },
  {
   "cell_type": "code",
   "execution_count": 3,
   "id": "ada03520-bc79-4336-995e-f94661821241",
   "metadata": {},
   "outputs": [
    {
     "data": {
      "text/plain": [
       "'mutable & Imutable data types'"
      ]
     },
     "execution_count": 3,
     "metadata": {},
     "output_type": "execute_result"
    }
   ],
   "source": [
    "\"mutable & Imutable data types\""
   ]
  },
  {
   "cell_type": "code",
   "execution_count": null,
   "id": "8c71ec89-3553-4bdb-8e9e-4c889805085d",
   "metadata": {},
   "outputs": [],
   "source": [
    "Mutable data types where in value can be changed however in imutable data type value cannot be changed"
   ]
  },
  {
   "cell_type": "code",
   "execution_count": null,
   "id": "f83636ee-e098-46c8-8b7f-fd134669f462",
   "metadata": {},
   "outputs": [],
   "source": [
    "for eg"
   ]
  },
  {
   "cell_type": "code",
   "execution_count": 6,
   "id": "8da53c39-7f1d-4c64-9294-8a1b23bc0308",
   "metadata": {},
   "outputs": [],
   "source": [
    "l = [1,2,5,9,10,'kaus', 10.45]"
   ]
  },
  {
   "cell_type": "code",
   "execution_count": 7,
   "id": "9ae56e47-52a0-49da-ae00-4e85b30678a6",
   "metadata": {},
   "outputs": [
    {
     "data": {
      "text/plain": [
       "[1, 2, 5, 9, 10, 'kaus', 10.45]"
      ]
     },
     "execution_count": 7,
     "metadata": {},
     "output_type": "execute_result"
    }
   ],
   "source": [
    "l"
   ]
  },
  {
   "cell_type": "code",
   "execution_count": 9,
   "id": "9fe04869-b083-497c-9b20-cafb57adef8e",
   "metadata": {},
   "outputs": [],
   "source": [
    "l[2] = 56"
   ]
  },
  {
   "cell_type": "code",
   "execution_count": null,
   "id": "e98840a6-5685-4c33-a55a-c9d5a3327fa5",
   "metadata": {},
   "outputs": [
    {
     "data": {
      "text/plain": [
       "[1, 2, 56, 9, 10, 'kaus', 10.45]"
      ]
     },
     "execution_count": 10,
     "metadata": {},
     "output_type": "execute_result"
    }
   ],
   "source": [
    "l"
   ]
  },
  {
   "cell_type": "code",
   "execution_count": null,
   "id": "dd37d2da-c03c-40c5-b08c-866aa1568f26",
   "metadata": {},
   "outputs": [],
   "source": [
    "we were able to change the no 5 to 56 so its mutable"
   ]
  },
  {
   "cell_type": "code",
   "execution_count": 14,
   "id": "2adaa2f3-cb31-429b-8dbd-5ee425871c64",
   "metadata": {},
   "outputs": [],
   "source": [
    "k = 'kaushal'"
   ]
  },
  {
   "cell_type": "code",
   "execution_count": 15,
   "id": "80c254f0-91a2-4cae-837a-77a48b53fbf2",
   "metadata": {},
   "outputs": [
    {
     "data": {
      "text/plain": [
       "'kaushal'"
      ]
     },
     "execution_count": 15,
     "metadata": {},
     "output_type": "execute_result"
    }
   ],
   "source": [
    "k"
   ]
  },
  {
   "cell_type": "code",
   "execution_count": 16,
   "id": "78a4a323-e070-41cd-880f-eaa41f128985",
   "metadata": {},
   "outputs": [
    {
     "data": {
      "text/plain": [
       "'s'"
      ]
     },
     "execution_count": 16,
     "metadata": {},
     "output_type": "execute_result"
    }
   ],
   "source": [
    "k[3]"
   ]
  },
  {
   "cell_type": "code",
   "execution_count": 17,
   "id": "3d49fc7f-a14b-41c2-b80a-b4f9789947d4",
   "metadata": {},
   "outputs": [
    {
     "ename": "NameError",
     "evalue": "name 'm' is not defined",
     "output_type": "error",
     "traceback": [
      "\u001b[0;31m---------------------------------------------------------------------------\u001b[0m",
      "\u001b[0;31mNameError\u001b[0m                                 Traceback (most recent call last)",
      "Cell \u001b[0;32mIn[17], line 1\u001b[0m\n\u001b[0;32m----> 1\u001b[0m k[\u001b[38;5;241m3\u001b[39m] \u001b[38;5;241m=\u001b[39m \u001b[43mm\u001b[49m\n",
      "\u001b[0;31mNameError\u001b[0m: name 'm' is not defined"
     ]
    }
   ],
   "source": [
    "k[3] = m"
   ]
  },
  {
   "cell_type": "code",
   "execution_count": null,
   "id": "d140e495-2212-4aaf-91b3-eb3e62adc945",
   "metadata": {},
   "outputs": [],
   "source": [
    "here we are getting an error hence the data is immutable"
   ]
  },
  {
   "cell_type": "markdown",
   "id": "e5634a68-fe26-4f71-ac7a-d344b709bff5",
   "metadata": {},
   "source": [
    "## https://github.com/kkishore81/assignment1.git"
   ]
  }
 ],
 "metadata": {
  "kernelspec": {
   "display_name": "Python 3 (ipykernel)",
   "language": "python",
   "name": "python3"
  },
  "language_info": {
   "codemirror_mode": {
    "name": "ipython",
    "version": 3
   },
   "file_extension": ".py",
   "mimetype": "text/x-python",
   "name": "python",
   "nbconvert_exporter": "python",
   "pygments_lexer": "ipython3",
   "version": "3.10.8"
  }
 },
 "nbformat": 4,
 "nbformat_minor": 5
}
